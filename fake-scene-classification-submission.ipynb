{
 "cells": [
  {
   "cell_type": "code",
   "execution_count": 1,
   "id": "8fa145e3",
   "metadata": {
    "execution": {
     "iopub.execute_input": "2024-11-09T04:35:25.312793Z",
     "iopub.status.busy": "2024-11-09T04:35:25.312345Z",
     "iopub.status.idle": "2024-11-09T04:35:26.440152Z",
     "shell.execute_reply": "2024-11-09T04:35:26.438935Z"
    },
    "papermill": {
     "duration": 1.137484,
     "end_time": "2024-11-09T04:35:26.443506",
     "exception": false,
     "start_time": "2024-11-09T04:35:25.306022",
     "status": "completed"
    },
    "tags": []
   },
   "outputs": [],
   "source": [
    "import argparse\n",
    "import os,cv2\n",
    "import random,numpy,pandas\n",
    "os.environ['CUBLAS_WORKSPACE_CONFIG'] = ':4096:8'"
   ]
  },
  {
   "cell_type": "code",
   "execution_count": 2,
   "id": "8ab8e11d",
   "metadata": {
    "_cell_guid": "b1076dfc-b9ad-4769-8c92-a6c4dae69d19",
    "_uuid": "8f2839f25d086af736a60e9eeb907d3b93b6e0e5",
    "execution": {
     "iopub.execute_input": "2024-11-09T04:35:26.454730Z",
     "iopub.status.busy": "2024-11-09T04:35:26.454163Z",
     "iopub.status.idle": "2024-11-09T04:35:31.777448Z",
     "shell.execute_reply": "2024-11-09T04:35:31.776260Z"
    },
    "papermill": {
     "duration": 5.332019,
     "end_time": "2024-11-09T04:35:31.780525",
     "exception": false,
     "start_time": "2024-11-09T04:35:26.448506",
     "status": "completed"
    },
    "tags": []
   },
   "outputs": [],
   "source": [
    "import argparse\n",
    "import os\n",
    "import random,numpy\n",
    "import torch\n",
    "import torch.nn as nn\n",
    "import torch.nn.parallel\n",
    "import torch.optim as optim\n",
    "import torch.nn.functional as F\n",
    "import torch.utils.data\n",
    "import torchvision\n",
    "import torchvision.datasets as dset\n",
    "import torchvision.transforms as transforms\n",
    "import torchvision.transforms.functional as TF\n",
    "import torchvision.utils as vutils\n",
    "import numpy as np\n",
    "import matplotlib.pyplot as plt\n",
    "import matplotlib.animation as animation"
   ]
  },
  {
   "cell_type": "code",
   "execution_count": 3,
   "id": "3075c1db",
   "metadata": {
    "execution": {
     "iopub.execute_input": "2024-11-09T04:35:31.790442Z",
     "iopub.status.busy": "2024-11-09T04:35:31.789854Z",
     "iopub.status.idle": "2024-11-09T04:35:31.806742Z",
     "shell.execute_reply": "2024-11-09T04:35:31.805394Z"
    },
    "papermill": {
     "duration": 0.024649,
     "end_time": "2024-11-09T04:35:31.809379",
     "exception": false,
     "start_time": "2024-11-09T04:35:31.784730",
     "status": "completed"
    },
    "tags": []
   },
   "outputs": [
    {
     "name": "stdout",
     "output_type": "stream",
     "text": [
      "Random Seed:  999\n"
     ]
    }
   ],
   "source": [
    "seed = 999\n",
    "print(\"Random Seed: \", seed)\n",
    "random.seed(seed)\n",
    "np.random.seed(seed)\n",
    "torch.manual_seed(seed)\n",
    "torch.cuda.manual_seed(seed)\n",
    "torch.cuda.manual_seed_all(seed)  # if you are using multi-GPU.\n",
    "torch.backends.cudnn.deterministic = True\n",
    "torch.backends.cudnn.benchmark = False\n",
    "torch.use_deterministic_algorithms(True)"
   ]
  },
  {
   "cell_type": "code",
   "execution_count": 4,
   "id": "151b0e73",
   "metadata": {
    "execution": {
     "iopub.execute_input": "2024-11-09T04:35:31.819498Z",
     "iopub.status.busy": "2024-11-09T04:35:31.819036Z",
     "iopub.status.idle": "2024-11-09T04:35:35.012728Z",
     "shell.execute_reply": "2024-11-09T04:35:35.011117Z"
    },
    "papermill": {
     "duration": 3.201852,
     "end_time": "2024-11-09T04:35:35.015614",
     "exception": false,
     "start_time": "2024-11-09T04:35:31.813762",
     "status": "completed"
    },
    "tags": []
   },
   "outputs": [
    {
     "name": "stdout",
     "output_type": "stream",
     "text": [
      "torch.Size([3, 256, 256])\n"
     ]
    }
   ],
   "source": [
    "fsc_test={}\n",
    "for i in os.listdir('/kaggle/input/cidaut-ai-fake-scene-classification-2024/Test'):\n",
    "    fsc_test[i]=TF.to_tensor(cv2.resize(cv2.imread(f'/kaggle/input/cidaut-ai-fake-scene-classification-2024/Test/{i}'),(256, 256)))\n",
    "\n",
    "print(fsc_test[\"21.jpg\"].shape)\n",
    "device = torch.device(\"cuda:0\" if (torch.cuda.is_available() and ngpu > 0) else \"cpu\")"
   ]
  },
  {
   "cell_type": "code",
   "execution_count": 5,
   "id": "2c3cc2fa",
   "metadata": {
    "execution": {
     "iopub.execute_input": "2024-11-09T04:35:35.025982Z",
     "iopub.status.busy": "2024-11-09T04:35:35.025563Z",
     "iopub.status.idle": "2024-11-09T04:35:35.039114Z",
     "shell.execute_reply": "2024-11-09T04:35:35.037916Z"
    },
    "papermill": {
     "duration": 0.021587,
     "end_time": "2024-11-09T04:35:35.041608",
     "exception": false,
     "start_time": "2024-11-09T04:35:35.020021",
     "status": "completed"
    },
    "tags": []
   },
   "outputs": [],
   "source": [
    "def weights_init(m):\n",
    "    classname = m.__class__.__name__\n",
    "    if classname.find('Conv') != -1:\n",
    "        nn.init.normal_(m.weight.data, 0.0, 0.02)\n",
    "    elif classname.find('BatchNorm') != -1:\n",
    "        nn.init.normal_(m.weight.data, 1.0, 0.02)\n",
    "        nn.init.constant_(m.bias.data, 0)\n",
    "\n",
    "class FSC(nn.Module):\n",
    "    def __init__(self):\n",
    "        super().__init__()\n",
    "        self.FSC_rafire=nn.Sequential(\n",
    "            nn.Conv2d(3, 16, 3),  # Increased channels\n",
    "            nn.BatchNorm2d(16),\n",
    "            nn.LeakyReLU(),\n",
    "            nn.MaxPool2d(2, 2),\n",
    "            \n",
    "            nn.Conv2d(16, 64, 3),\n",
    "            nn.BatchNorm2d(64),\n",
    "            nn.LeakyReLU(),\n",
    "            nn.MaxPool2d(2, 2),\n",
    "            \n",
    "            nn.Conv2d(64, 126, 3),\n",
    "            nn.BatchNorm2d(126),\n",
    "            nn.LeakyReLU(),\n",
    "            nn.MaxPool2d(2, 2),\n",
    "            \n",
    "            nn.Conv2d(126, 256, 3),\n",
    "            nn.BatchNorm2d(256),\n",
    "            nn.LeakyReLU(),\n",
    "            nn.MaxPool2d(2, 2),\n",
    "            \n",
    "            nn.Conv2d(256, 512, 3),\n",
    "            nn.BatchNorm2d(512),\n",
    "            nn.LeakyReLU(),\n",
    "            nn.MaxPool2d(2, 2),\n",
    "            \n",
    "            nn.Conv2d(512, 1024, 3),\n",
    "            nn.BatchNorm2d(1024),\n",
    "            nn.LeakyReLU(),\n",
    "            nn.MaxPool2d(2, 2),\n",
    "            \n",
    "            nn.Flatten(),\n",
    "            \n",
    "            nn.Linear(4096, 2)  \n",
    "        )\n",
    "\n",
    "    def forward(self,x):\n",
    "        rsc_rafire = self.FSC_rafire(x)\n",
    "        return  torch.argmax(rsc_rafire, dim=1)"
   ]
  },
  {
   "cell_type": "code",
   "execution_count": 6,
   "id": "ffd02e0e",
   "metadata": {
    "execution": {
     "iopub.execute_input": "2024-11-09T04:35:35.051936Z",
     "iopub.status.busy": "2024-11-09T04:35:35.051519Z",
     "iopub.status.idle": "2024-11-09T04:35:35.424348Z",
     "shell.execute_reply": "2024-11-09T04:35:35.423096Z"
    },
    "papermill": {
     "duration": 0.3809,
     "end_time": "2024-11-09T04:35:35.426839",
     "exception": false,
     "start_time": "2024-11-09T04:35:35.045939",
     "status": "completed"
    },
    "tags": []
   },
   "outputs": [
    {
     "data": {
      "text/plain": [
       "<All keys matched successfully>"
      ]
     },
     "execution_count": 6,
     "metadata": {},
     "output_type": "execute_result"
    }
   ],
   "source": [
    "FSC_net = FSC().to(device)\n",
    "\n",
    "FSC_net.load_state_dict(torch.load(\"/kaggle/input/d/mafiosoquasar/fake-scene-classification-model-2/0.014429506845772266 97.14286041259766 77.pth\",weights_only=False,map_location=torch.device('cpu')))\n"
   ]
  },
  {
   "cell_type": "code",
   "execution_count": 7,
   "id": "78800751",
   "metadata": {
    "execution": {
     "iopub.execute_input": "2024-11-09T04:35:35.437441Z",
     "iopub.status.busy": "2024-11-09T04:35:35.436997Z",
     "iopub.status.idle": "2024-11-09T04:35:43.492840Z",
     "shell.execute_reply": "2024-11-09T04:35:43.491737Z"
    },
    "papermill": {
     "duration": 8.064329,
     "end_time": "2024-11-09T04:35:43.495565",
     "exception": false,
     "start_time": "2024-11-09T04:35:35.431236",
     "status": "completed"
    },
    "tags": []
   },
   "outputs": [
    {
     "name": "stderr",
     "output_type": "stream",
     "text": [
      "/tmp/ipykernel_17/774619272.py:12: FutureWarning: ChainedAssignmentError: behaviour will change in pandas 3.0!\n",
      "You are setting values through chained assignment. Currently this works in certain cases, but when using Copy-on-Write (which will become the default behaviour in pandas 3.0) this will never work to update the original DataFrame or Series, because the intermediate object on which we are setting values will behave as a copy.\n",
      "A typical example is when you are setting values in a column of a DataFrame, like:\n",
      "\n",
      "df[\"col\"][row_indexer] = value\n",
      "\n",
      "Use `df.loc[row_indexer, \"col\"] = values` instead, to perform the assignment in a single step and ensure this keeps updating the original `df`.\n",
      "\n",
      "See the caveats in the documentation: https://pandas.pydata.org/pandas-docs/stable/user_guide/indexing.html#returning-a-view-versus-a-copy\n",
      "\n",
      "  fsc_submission.loc[i]['label']=output\n"
     ]
    },
    {
     "name": "stdout",
     "output_type": "stream",
     "text": [
      "180 77\n"
     ]
    },
    {
     "data": {
      "text/html": [
       "<div>\n",
       "<style scoped>\n",
       "    .dataframe tbody tr th:only-of-type {\n",
       "        vertical-align: middle;\n",
       "    }\n",
       "\n",
       "    .dataframe tbody tr th {\n",
       "        vertical-align: top;\n",
       "    }\n",
       "\n",
       "    .dataframe thead th {\n",
       "        text-align: right;\n",
       "    }\n",
       "</style>\n",
       "<table border=\"1\" class=\"dataframe\">\n",
       "  <thead>\n",
       "    <tr style=\"text-align: right;\">\n",
       "      <th></th>\n",
       "      <th>label</th>\n",
       "      <th>image</th>\n",
       "    </tr>\n",
       "    <tr>\n",
       "      <th>image</th>\n",
       "      <th></th>\n",
       "      <th></th>\n",
       "    </tr>\n",
       "  </thead>\n",
       "  <tbody>\n",
       "    <tr>\n",
       "      <th>102.jpg</th>\n",
       "      <td>1</td>\n",
       "      <td>102.jpg</td>\n",
       "    </tr>\n",
       "    <tr>\n",
       "      <th>108.jpg</th>\n",
       "      <td>1</td>\n",
       "      <td>108.jpg</td>\n",
       "    </tr>\n",
       "    <tr>\n",
       "      <th>109.jpg</th>\n",
       "      <td>0</td>\n",
       "      <td>109.jpg</td>\n",
       "    </tr>\n",
       "    <tr>\n",
       "      <th>111.jpg</th>\n",
       "      <td>1</td>\n",
       "      <td>111.jpg</td>\n",
       "    </tr>\n",
       "    <tr>\n",
       "      <th>121.jpg</th>\n",
       "      <td>1</td>\n",
       "      <td>121.jpg</td>\n",
       "    </tr>\n",
       "    <tr>\n",
       "      <th>...</th>\n",
       "      <td>...</td>\n",
       "      <td>...</td>\n",
       "    </tr>\n",
       "    <tr>\n",
       "      <th>899.jpg</th>\n",
       "      <td>1</td>\n",
       "      <td>899.jpg</td>\n",
       "    </tr>\n",
       "    <tr>\n",
       "      <th>91.jpg</th>\n",
       "      <td>1</td>\n",
       "      <td>91.jpg</td>\n",
       "    </tr>\n",
       "    <tr>\n",
       "      <th>94.jpg</th>\n",
       "      <td>0</td>\n",
       "      <td>94.jpg</td>\n",
       "    </tr>\n",
       "    <tr>\n",
       "      <th>95.jpg</th>\n",
       "      <td>0</td>\n",
       "      <td>95.jpg</td>\n",
       "    </tr>\n",
       "    <tr>\n",
       "      <th>98.jpg</th>\n",
       "      <td>0</td>\n",
       "      <td>98.jpg</td>\n",
       "    </tr>\n",
       "  </tbody>\n",
       "</table>\n",
       "<p>180 rows × 2 columns</p>\n",
       "</div>"
      ],
      "text/plain": [
       "         label    image\n",
       "image                  \n",
       "102.jpg      1  102.jpg\n",
       "108.jpg      1  108.jpg\n",
       "109.jpg      0  109.jpg\n",
       "111.jpg      1  111.jpg\n",
       "121.jpg      1  121.jpg\n",
       "...        ...      ...\n",
       "899.jpg      1  899.jpg\n",
       "91.jpg       1   91.jpg\n",
       "94.jpg       0   94.jpg\n",
       "95.jpg       0   95.jpg\n",
       "98.jpg       0   98.jpg\n",
       "\n",
       "[180 rows x 2 columns]"
      ]
     },
     "execution_count": 7,
     "metadata": {},
     "output_type": "execute_result"
    }
   ],
   "source": [
    "fsc_submission=pandas.read_csv(\"/kaggle/input/cidaut-ai-fake-scene-classification-2024/sample_submission.csv\", index_col =\"image\")#.to_dict('list')\n",
    "\n",
    "z_add,z_total=0,0\n",
    "for i in fsc_submission.index:\n",
    "    img=fsc_test[i].reshape((1, 3, 256, 256)).float().to(device)\n",
    "    #print(FSC_net(img))\n",
    "    \n",
    "    output = FSC_net(img).cpu().detach().numpy()\n",
    "    if output==0:\n",
    "        z_add+=1\n",
    "    z_total+=1\n",
    "    fsc_submission.loc[i]['label']=output\n",
    "\n",
    "print(z_total,z_add)\n",
    "fsc_submission=pandas.DataFrame(fsc_submission)\n",
    "fsc_submission['image']=fsc_submission.index\n",
    "fsc_submission.to_csv(f\"submission.csv\", index=False)\n",
    "fsc_submission"
   ]
  }
 ],
 "metadata": {
  "kaggle": {
   "accelerator": "none",
   "dataSources": [
    {
     "databundleVersionId": 9934427,
     "sourceId": 87323,
     "sourceType": "competition"
    },
    {
     "datasetId": 5996699,
     "sourceId": 9808059,
     "sourceType": "datasetVersion"
    },
    {
     "datasetId": 6019812,
     "sourceId": 9849169,
     "sourceType": "datasetVersion"
    },
    {
     "modelId": 154926,
     "modelInstanceId": 132124,
     "sourceId": 155593,
     "sourceType": "modelInstanceVersion"
    },
    {
     "modelId": 155050,
     "modelInstanceId": 132252,
     "sourceId": 155634,
     "sourceType": "modelInstanceVersion"
    },
    {
     "modelId": 155053,
     "modelInstanceId": 132255,
     "sourceId": 155637,
     "sourceType": "modelInstanceVersion"
    },
    {
     "modelId": 155086,
     "modelInstanceId": 132290,
     "sourceId": 155682,
     "sourceType": "modelInstanceVersion"
    },
    {
     "modelId": 155168,
     "modelInstanceId": 132377,
     "sourceId": 155781,
     "sourceType": "modelInstanceVersion"
    },
    {
     "modelId": 156634,
     "modelInstanceId": 133863,
     "sourceId": 157527,
     "sourceType": "modelInstanceVersion"
    }
   ],
   "dockerImageVersionId": 30787,
   "isGpuEnabled": false,
   "isInternetEnabled": true,
   "language": "python",
   "sourceType": "notebook"
  },
  "kernelspec": {
   "display_name": "Python 3",
   "language": "python",
   "name": "python3"
  },
  "language_info": {
   "codemirror_mode": {
    "name": "ipython",
    "version": 3
   },
   "file_extension": ".py",
   "mimetype": "text/x-python",
   "name": "python",
   "nbconvert_exporter": "python",
   "pygments_lexer": "ipython3",
   "version": "3.10.14"
  },
  "papermill": {
   "default_parameters": {},
   "duration": 22.391041,
   "end_time": "2024-11-09T04:35:44.725591",
   "environment_variables": {},
   "exception": null,
   "input_path": "__notebook__.ipynb",
   "output_path": "__notebook__.ipynb",
   "parameters": {},
   "start_time": "2024-11-09T04:35:22.334550",
   "version": "2.6.0"
  }
 },
 "nbformat": 4,
 "nbformat_minor": 5
}
